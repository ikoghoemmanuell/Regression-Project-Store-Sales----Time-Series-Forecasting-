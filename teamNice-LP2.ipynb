{
 "cells": [
  {
   "attachments": {},
   "cell_type": "markdown",
   "metadata": {},
   "source": [
    "# Title\n",
    "Regression Project (Store Sales -- Time Series Forecasting)"
   ]
  },
  {
   "attachments": {},
   "cell_type": "markdown",
   "metadata": {},
   "source": [
    "# Project Description\n",
    "This is a time series forecasting problem. In this project, you'll predict store sales on data from Corporation Favorita, a large Ecuadorian-based grocery retailer.\n",
    "\n",
    "Specifically, you are to build a model that more accurately predicts the unit sales for thousands of items sold at different Favorita stores.\n",
    "\n",
    "The training data includes dates, store, and product information, whether that item was being promoted, as well as the sales numbers. Additional files include supplementary information that may be useful in building your models\n",
    "\n",
    "File Descriptions and Data Field Information\n",
    "\n",
    "train.csv\n",
    "\n",
    "The training data, comprising time series of features store_nbr, family, and onpromotion as well as the target sales.\n",
    "\n",
    "store_nbr identifies the store at which the products are sold.\n",
    "\n",
    "family identifies the type of product sold.\n",
    "\n",
    "sales gives the total sales for a product family at a particular store at a given date. Fractional values are possible since products can be sold in fractional units (1.5 kg of cheese, for instance, as opposed to 1 bag of chips).\n",
    "\n",
    "onpromotion gives the total number of items in a product family that were being promoted at a store at a given date.\n",
    "\n",
    "test.csv\n",
    "\n",
    "The test data, having the same features as the training data. You will predict the target sales for the dates in this file.\n",
    "\n",
    "The dates in the test data are for the 15 days after the last date in the training data.\n",
    "\n",
    "transaction.csv\n",
    "\n",
    "Contains date, store_nbr and transaction made on that specific date.\n",
    "sample_submission.csv\n",
    "\n",
    "A sample submission file in the correct format.\n",
    "stores.csv\n",
    "\n",
    "Store metadata, including city, state, type, and cluster.\n",
    "\n",
    "cluster is a grouping of similar stores.\n",
    "\n",
    "oil.csv\n",
    "\n",
    "Daily oil price which includes values during both the train and test data timeframes. (Ecuador is an oil-dependent country and its economical health is highly vulnerable to shocks in oil prices.)\n",
    "holidays_events.csv\n",
    "\n",
    "Holidays and Events, with metadata\n",
    "NOTE: Pay special attention to the transferred column. A holiday that is transferred officially falls on that calendar day but was moved to another date by the government. A transferred day is more like a normal day than a holiday. To find the day that it was celebrated, look for the corresponding row where type is Transfer.\n",
    "\n",
    "For example, the holiday Independencia de Guayaquil was transferred from 2012-10-09 to 2012-10-12, which means it was celebrated on 2012-10-12. Days that are type Bridge are extra days that are added to a holiday (e.g., to extend the break across a long weekend). These are frequently made up by the type Work Day which is a day not normally scheduled for work (e.g., Saturday) that is meant to payback the Bridge.\n",
    "\n",
    "Additional holidays are days added a regular calendar holiday, for example, as typically happens around Christmas (making Christmas Eve a holiday).\n",
    "Additional Notes\n",
    "\n",
    "Wages in the public sector are paid every two weeks on the 15th and on the last day of the month. Supermarket sales could be affected by this.\n",
    "\n",
    "A magnitude 7.8 earthquake struck Ecuador on April 16, 2016. People rallied in relief efforts donating water and other first need products which greatly affected supermarket sales for several weeks after the earthquake.\n",
    "\n",
    "\n",
    "Your task is to build a model that more accurately predicts the unit sales for thousands of items.\n",
    "\n",
    "Important\n",
    "\n",
    "Document process from data cleaning, analysis, assumptions, model building etc. Marks will be awarded for documentation.\n",
    "Rubric\n",
    "\n",
    "Documentation:\n",
    "\n",
    "Excellent: Having documentation on the project ie data cleaning, analysis, hypothesis and model.\n",
    "\n",
    "Good: Gave a summary on some of the processes\n",
    "\n",
    "Fair: Gave a bullet list of the processes with short sentences\n",
    "\n",
    "Poor: No documentation\n",
    "\n",
    "Hypothesis Analysis &Visualization:\n",
    "\n",
    "Excellent: Validated the hypothesis and answered all questions listed earlier with appropriate charts. Used relevant diagrams and charts to show analysis/metrics.\n",
    "\n",
    "Good: Validated at least 4 hypothesis and answered some of the questions listed with appropriate charts. Used relevant diagrams but might need some improvement and.\n",
    "\n",
    "Fair: Lack of clarity on whether the hypothesis was true.\n",
    "\n",
    "Poor: Not answered any of the hypothesis\n",
    "\n",
    "Model Building:\n",
    "\n",
    "Excellent: Model has an RMSLE of 0.2\n",
    "\n",
    "Good: Model has RMSLE of 0.3\n",
    "\n",
    "Fair: Model has RMSLE of 0.4\n",
    "\n",
    "Poor: Model has RMSLE of 0.4 +"
   ]
  },
  {
   "attachments": {},
   "cell_type": "markdown",
   "metadata": {},
   "source": [
    "# Hypothesis\n",
    "## Null Hypothesis, HO\n",
    "There are no exact key factors that correlate with the exact amount of funding contributed by the investors.\n",
    "## AlternativeHypothesis, H1\n",
    "# Questions\n",
    "Is the train dataset complete (has all the required dates)?\n",
    "\n",
    "Which dates have the lowest and highest sales for each year?\n",
    "\n",
    "Did the earthquake impact sales?\n",
    "\n",
    "Are certain groups of stores selling more products? (Cluster, city, state, type)\n",
    "\n",
    "Are sales affected by promotions, oil prices and holidays?\n",
    "\n",
    "What analysis can we get from the date and its extractable features?\n",
    "\n",
    "What is the difference between RMSLE, RMSE, MSE (or why is the MAE greater than all of them?)"
   ]
  },
  {
   "attachments": {},
   "cell_type": "markdown",
   "metadata": {},
   "source": [
    "# Importation"
   ]
  },
  {
   "cell_type": "code",
   "execution_count": 1,
   "metadata": {},
   "outputs": [
    {
     "ename": "ModuleNotFoundError",
     "evalue": "No module named 'pandas'",
     "output_type": "error",
     "traceback": [
      "\u001b[1;31m---------------------------------------------------------------------------\u001b[0m",
      "\u001b[1;31mModuleNotFoundError\u001b[0m                       Traceback (most recent call last)",
      "Cell \u001b[1;32mIn[1], line 1\u001b[0m\n\u001b[1;32m----> 1\u001b[0m \u001b[39mimport\u001b[39;00m \u001b[39mpandas\u001b[39;00m \u001b[39mas\u001b[39;00m \u001b[39mpd\u001b[39;00m\n\u001b[0;32m      3\u001b[0m \u001b[39mimport\u001b[39;00m \u001b[39mmatplotlib\u001b[39;00m\u001b[39m.\u001b[39;00m\u001b[39mpyplot\u001b[39;00m \u001b[39mas\u001b[39;00m \u001b[39mplt\u001b[39;00m\n\u001b[0;32m      4\u001b[0m \u001b[39mimport\u001b[39;00m \u001b[39mseaborn\u001b[39;00m \u001b[39mas\u001b[39;00m \u001b[39msns\u001b[39;00m\n",
      "\u001b[1;31mModuleNotFoundError\u001b[0m: No module named 'pandas'"
     ]
    }
   ],
   "source": [
    "import pandas as pd\n",
    "\n",
    "import matplotlib.pyplot as plt\n",
    "import seaborn as sns\n",
    "import matplotlib.dates as mdates\n",
    "from pandas_profiling import ProfileReport\n",
    "import plotly.graph_objects as go"
   ]
  },
  {
   "attachments": {},
   "cell_type": "markdown",
   "metadata": {},
   "source": [
    "# Data Loading"
   ]
  },
  {
   "cell_type": "code",
   "execution_count": null,
   "metadata": {},
   "outputs": [],
   "source": [
    "holidays=pd.read_csv(\"store-sales-time-series-forecasting/holidays_events.csv\")\n",
    "oil=pd.read_csv(\"store-sales-time-series-forecasting/oil.csv\")\n",
    "sample=pd.read_csv(\"store-sales-time-series-forecasting/sample_submission.csv\")\n",
    "stores=pd.read_csv(\"store-sales-time-series-forecasting/stores.csv\")\n",
    "test=pd.read_csv(\"store-sales-time-series-forecasting/test.csv\")\n",
    "train=pd.read_csv(\"store-sales-time-series-forecasting/train.csv\", parse_dates =['date'])\n",
    "transactions=pd.read_csv(\"store-sales-time-series-forecasting/transactions.csv\")"
   ]
  },
  {
   "attachments": {},
   "cell_type": "markdown",
   "metadata": {},
   "source": [
    "# Exploratory Data Analysis: EDA\n",
    "# Dataset overview"
   ]
  },
  {
   "cell_type": "code",
   "execution_count": null,
   "metadata": {},
   "outputs": [],
   "source": [
    "profile_data = ProfileReport(train, title =\"Profiling Report\")\n",
    "profile_data"
   ]
  },
  {
   "attachments": {},
   "cell_type": "markdown",
   "metadata": {},
   "source": [
    "Our date starts from January 2013 till October 2017\n",
    "\n",
    "Sales has a strong positive correlation with onpromotion, so we'll focus on sales, id and onpromotion since they correlate with one another\n",
    "\n",
    "No missing values in train data"
   ]
  }
 ],
 "metadata": {
  "kernelspec": {
   "display_name": "Python 3",
   "language": "python",
   "name": "python3"
  },
  "language_info": {
   "codemirror_mode": {
    "name": "ipython",
    "version": 3
   },
   "file_extension": ".py",
   "mimetype": "text/x-python",
   "name": "python",
   "nbconvert_exporter": "python",
   "pygments_lexer": "ipython3",
   "version": "3.11.1"
  },
  "orig_nbformat": 4,
  "vscode": {
   "interpreter": {
    "hash": "108095e740c160118120ad5e22811b4aca9f414a6f3c55c969835bc2c10848d1"
   }
  }
 },
 "nbformat": 4,
 "nbformat_minor": 2
}
